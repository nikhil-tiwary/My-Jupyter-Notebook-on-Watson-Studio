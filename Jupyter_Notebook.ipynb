{
 "cells": [
  {
   "cell_type": "markdown",
   "metadata": {},
   "source": [
    "<center>\n",
    "    <img src=\"https://s3-api.us-geo.objectstorage.softlayer.net/cf-courses-data/CognitiveClass/Logos/organization_logo/organization_logo.png\" width=\"300\" alt=\"cognitiveclass.ai logo\"  />\n",
    "</center>\n"
   ]
  },
  {
   "cell_type": "markdown",
   "metadata": {},
   "source": [
    "#### Add your code below following the instructions given in the course\n"
   ]
  },
  {
   "cell_type": "markdown",
   "metadata": {},
   "source": [
    "# My Jupyter Notebook on IBM Watson Studio"
   ]
  },
  {
   "cell_type": "markdown",
   "metadata": {},
   "source": [
    "__Nikhil__\n",
    "\n",
    "Student in Computer Science Stream"
   ]
  },
  {
   "cell_type": "markdown",
   "metadata": {},
   "source": [
    "_Data science is one of the broadest fields available for individuals with a mathematical or statistical background. There are plenty of open positions that require data science skills_"
   ]
  },
  {
   "cell_type": "markdown",
   "metadata": {},
   "source": [
    "### The following code sets a numeric variable to 0, then adds 1 to the variable. The value is printed in a sentence."
   ]
  },
  {
   "cell_type": "code",
   "execution_count": 1,
   "metadata": {},
   "outputs": [
    {
     "name": "stdout",
     "output_type": "stream",
     "text": [
      "The value of a is 1\n"
     ]
    }
   ],
   "source": [
    "a=0\n",
    "a=a+1\n",
    "print(\"The value of a is\", a)"
   ]
  },
  {
   "cell_type": "markdown",
   "metadata": {},
   "source": [
    "###  1. Assignment Topic: \n",
    "\n",
    "Create a Jupyter Notebook using IBM Watson Studio. You can choose any language you want (Python, R, or Scala). You will need to include a combination of markdown and code cells. You will likely need to use the Markdown cheatsheet to help you determine the appropriate syntax to style your markdown.\n",
    "\n",
    "#####  2. _Guidelines for the submission_\n",
    "\n",
    "Create your Jupyter Notebook on IBM Watson Studio\n",
    "Include at least 6 cells:\n",
    "* Cell 1 (rendered as Markdown): The title should be \\\"My Jupyter Notebook on IBM Data Science Experience\\\", in H1 header styling. The title does not need to be centered.\n",
    "* Cell 2 (rendered as Markdown): Your name, in bold characters. In the line below your name, write your current or desired occupation in regular font.\",\n",
    "* Cell 3 (rendered as Markdown): In italic formatting, write one or two sentences about why you are interested in data science. For example, you can start your first sentence with \\\"I am interested in data science because ...\\\".\n",
    "* Cell 4 (rendered as Markdown): In H3 header styling, explain in a short sentence what your code is supposed to do in Cell 5.\n",
    "* Cell 5 (code cell): Your code, as described in Cell 4. It must be executed and must display an output. Try to keep the code simple (it can even be \\\"1 + 1\\\").\n",
    "* Cell 6 (rendered as Markdown): Using Markdown or HTML, this cell must include at least 3 of the following: horizontal rule, bulleted list, numbered list, tables, hyperlinks, images, `code/syntax highlighting`, blocked quotes, ~~strikethrough~~.\n",
    "\n",
    ">The following is uneeded by I wanted to practice. If you are into ships I present you Korrasami\n",
    "\n",
    "\n",
    "<font size=\\\"6\\\"> <center> <a href=\\\"https://shipping.fandom.com/wiki/Korrasami\\\">Korrasami</a> <font>\n",
    "    \n",
    "\n",
    "\n",
    "\n",
    "\n"
   ]
  },
  {
   "cell_type": "code",
   "execution_count": null,
   "metadata": {},
   "outputs": [],
   "source": []
  }
 ],
 "metadata": {
  "kernelspec": {
   "display_name": "Python",
   "language": "python",
   "name": "conda-env-python-py"
  },
  "language_info": {
   "codemirror_mode": {
    "name": "ipython",
    "version": 3
   },
   "file_extension": ".py",
   "mimetype": "text/x-python",
   "name": "python",
   "nbconvert_exporter": "python",
   "pygments_lexer": "ipython3",
   "version": "3.7.12"
  }
 },
 "nbformat": 4,
 "nbformat_minor": 4
}
